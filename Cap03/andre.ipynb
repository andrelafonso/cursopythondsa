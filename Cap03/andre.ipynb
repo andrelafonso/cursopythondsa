{
 "cells": [
  {
   "cell_type": "code",
   "execution_count": 23,
   "metadata": {},
   "outputs": [
    {
     "ename": "SyntaxError",
     "evalue": "invalid syntax (<ipython-input-23-b3320d7f962d>, line 1)",
     "output_type": "error",
     "traceback": [
      "\u001b[1;36m  File \u001b[1;32m\"<ipython-input-23-b3320d7f962d>\"\u001b[1;36m, line \u001b[1;32m1\u001b[0m\n\u001b[1;33m    class acao() {\u001b[0m\n\u001b[1;37m                 ^\u001b[0m\n\u001b[1;31mSyntaxError\u001b[0m\u001b[1;31m:\u001b[0m invalid syntax\n"
     ]
    }
   ],
   "source": [
    "class acao() {\n",
    "\n",
    "import pandas as pd\n",
    "from pandas_datareader import data as web\n",
    "import plotly.graph_objects as go\n",
    "\n",
    "df = pd.DataFrame()\n",
    "\n",
    "acao = input(\"Digite o Papel: \")\n",
    "\n",
    "df = web.DataReader(acao, data_source='yahoo', start=input(\"Digite o perído inicial: \"))\n",
    "\n",
    "df.head()\n",
    "\n",
    "trace1 = {\n",
    "    'x': df.index,\n",
    "    'open': df.Open,\n",
    "    'close': df.Close,\n",
    "    'high': df.High,\n",
    "    'low': df.Low,\n",
    "    'type': 'candlestick',\n",
    "    'name': acao,\n",
    "    'showlegend': True\n",
    "}\n",
    "\n",
    "data = [trace1]\n",
    "layout = go.Layout()\n",
    "\n",
    "fig = go.Figure(data=data, layout=layout)\n",
    "fig.show()\n",
    "}\n",
    "    "
   ]
  },
  {
   "cell_type": "code",
   "execution_count": null,
   "metadata": {},
   "outputs": [],
   "source": []
  },
  {
   "cell_type": "code",
   "execution_count": null,
   "metadata": {},
   "outputs": [],
   "source": []
  }
 ],
 "metadata": {
  "kernelspec": {
   "display_name": "Python 3",
   "language": "python",
   "name": "python3"
  },
  "language_info": {
   "codemirror_mode": {
    "name": "ipython",
    "version": 3
   },
   "file_extension": ".py",
   "mimetype": "text/x-python",
   "name": "python",
   "nbconvert_exporter": "python",
   "pygments_lexer": "ipython3",
   "version": "3.7.6"
  }
 },
 "nbformat": 4,
 "nbformat_minor": 4
}
