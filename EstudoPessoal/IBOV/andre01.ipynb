{
 "cells": [
  {
   "cell_type": "code",
   "execution_count": 13,
   "metadata": {},
   "outputs": [],
   "source": [
    "import pandas as pd\n",
    "from pandas_datareader import data as web\n",
    "import plotly.graph_objects as go\n",
    "\n",
    "# Criando a classe Livro com parâmetros no método construtor\n",
    "class Ibov():\n",
    "    def __init__(self, acao, dataini):\n",
    "        self.acao = acao\n",
    "        self.dataini = dataini\n",
    "        print(\"Construtor chamado para criar um objeto desta classe\")\n",
    "    \n",
    "    def imprime(self, acao, dataini):\n",
    "        print(\"Estudo do papel %s a partir de: %d\" %(acao, dataini))\n",
    "\n",
    "        df = pd.DataFrame()\n",
    "        acao = acao\n",
    " \n",
    "        df = web.DataReader(acao, data_source='yahoo', start=dataini)\n",
    "\n",
    "        df.head()\n",
    "\n",
    "        trace1 = {\n",
    "            'x': df.index,\n",
    "            'open': df.Open,\n",
    "            'close': df.Close,\n",
    "            'high': df.High,\n",
    "            'low': df.Low,\n",
    "            'type': 'candlestick',\n",
    "            'name': acao,\n",
    "            'showlegend': True\n",
    "        }\n",
    "\n",
    "        data = [trace1]\n",
    "        layout = go.Layout()\n",
    "\n",
    "        fig = go.Figure(data=data, layout=layout)\n",
    "        fig.show()\n",
    "\n",
    "    "
   ]
  },
  {
   "cell_type": "code",
   "execution_count": 14,
   "metadata": {},
   "outputs": [
    {
     "name": "stdout",
     "output_type": "stream",
     "text": [
      "Construtor chamado para criar um objeto desta classe\n",
      "Construtor chamado para criar um objeto desta classe\n"
     ]
    }
   ],
   "source": [
    "EstudoPapel = Ibov(acao='VVAR3.SA',dataini='01-01-2020')\n",
    "EstudoPapel2 = Ibov(acao='MGLU3.SA',dataini='01-01-2020')\n"
   ]
  },
  {
   "cell_type": "code",
   "execution_count": 15,
   "metadata": {},
   "outputs": [
    {
     "ename": "NameError",
     "evalue": "name 'acao' is not defined",
     "output_type": "error",
     "traceback": [
      "\u001b[1;31m---------------------------------------------------------------------------\u001b[0m",
      "\u001b[1;31mNameError\u001b[0m                                 Traceback (most recent call last)",
      "\u001b[1;32m<ipython-input-15-d91f6e290e2a>\u001b[0m in \u001b[0;36m<module>\u001b[1;34m\u001b[0m\n\u001b[1;32m----> 1\u001b[1;33m \u001b[0mEstudoPapel\u001b[0m\u001b[1;33m.\u001b[0m\u001b[0mimprime\u001b[0m\u001b[1;33m(\u001b[0m\u001b[0macao\u001b[0m\u001b[1;33m,\u001b[0m\u001b[0mdataini\u001b[0m\u001b[1;33m)\u001b[0m\u001b[1;33m\u001b[0m\u001b[1;33m\u001b[0m\u001b[0m\n\u001b[0m",
      "\u001b[1;31mNameError\u001b[0m: name 'acao' is not defined"
     ]
    }
   ],
   "source": [
    "EstudoPapel.imprime(acao,dataini)"
   ]
  },
  {
   "cell_type": "code",
   "execution_count": null,
   "metadata": {},
   "outputs": [],
   "source": []
  },
  {
   "cell_type": "code",
   "execution_count": null,
   "metadata": {},
   "outputs": [],
   "source": []
  }
 ],
 "metadata": {
  "kernelspec": {
   "display_name": "Python 3",
   "language": "python",
   "name": "python3"
  },
  "language_info": {
   "codemirror_mode": {
    "name": "ipython",
    "version": 3
   },
   "file_extension": ".py",
   "mimetype": "text/x-python",
   "name": "python",
   "nbconvert_exporter": "python",
   "pygments_lexer": "ipython3",
   "version": "3.7.6"
  }
 },
 "nbformat": 4,
 "nbformat_minor": 4
}
