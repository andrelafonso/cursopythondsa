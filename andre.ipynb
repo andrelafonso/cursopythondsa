{
 "cells": [
  {
   "cell_type": "code",
   "execution_count": null,
   "metadata": {},
   "outputs": [],
   "source": [
    "class acao()\n",
    "\n",
    "    import pandas as pd\n",
    "    from pandas_datareader import data as web\n",
    "    import plotly.graph_objects as go\n",
    "\n",
    "    df = pd.DataFrame()\n",
    "\n",
    "    acao = input(\"Digite o Papel: \")\n",
    "\n",
    "df = web.DataReader(acao, data_source='yahoo', start=input(\"Digite o perído inicial: \"))\n",
    "\n",
    "df.head()\n",
    "\n",
    "trace1 = {\n",
    "    'x': df.index,\n",
    "    'open': df.Open,\n",
    "    'close': df.Close,\n",
    "    'high': df.High,\n",
    "    'low': df.Low,\n",
    "    'type': 'candlestick',\n",
    "    'name': acao,\n",
    "    'showlegend': True\n",
    "}\n",
    "\n",
    "data = [trace1]\n",
    "layout = go.Layout()\n",
    "\n",
    "fig = go.Figure(data=data, layout=layout)\n",
    "fig.show()\n",
    "    "
   ]
  },
  {
   "cell_type": "code",
   "execution_count": null,
   "metadata": {},
   "outputs": [],
   "source": []
  },
  {
   "cell_type": "code",
   "execution_count": null,
   "metadata": {},
   "outputs": [],
   "source": []
  }
 ],
 "metadata": {
  "kernelspec": {
   "display_name": "Python 3",
   "language": "python",
   "name": "python3"
  }
 },
 "nbformat": 4,
 "nbformat_minor": 4
}
